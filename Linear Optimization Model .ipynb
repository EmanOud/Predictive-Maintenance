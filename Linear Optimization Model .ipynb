{
 "cells": [
  {
   "cell_type": "markdown",
   "metadata": {},
   "source": [
    "# Problem Statement"
   ]
  },
  {
   "cell_type": "markdown",
   "metadata": {},
   "source": [
    "The objective is to minimize the cost of maintenance. X is the number of machines that need to be maintained in a certain state. Y is the number of machines in a certain state. \n",
    "M is the minimum number of machines required to be operating. Probability of deteriorating from from tate to another is defined. Maintenance cost is defined."
   ]
  },
  {
   "cell_type": "markdown",
   "metadata": {},
   "source": [
    "The code assumes 3 states only."
   ]
  },
  {
   "cell_type": "markdown",
   "metadata": {},
   "source": [
    "# Machines"
   ]
  },
  {
   "cell_type": "code",
   "execution_count": 1,
   "metadata": {},
   "outputs": [
    {
     "name": "stdout",
     "output_type": "stream",
     "text": [
      "Academic license - for non-commercial use only\n"
     ]
    }
   ],
   "source": [
    "import gurobipy as grb\n",
    "from gurobipy import GRB\n",
    "\n",
    "# Create grb model \n",
    "mod1 = grb.Model(\"Machines\")"
   ]
  },
  {
   "cell_type": "code",
   "execution_count": 2,
   "metadata": {},
   "outputs": [],
   "source": [
    "#Create Dictionary\n",
    "\n",
    "C={} \n",
    "\n",
    "#Initiating costs\n",
    "#Failure mode\n",
    "C[0]=6\n",
    "#Operating states\n",
    "C[1]=3 #C[s]\n",
    "C[2]=1\n"
   ]
  },
  {
   "cell_type": "code",
   "execution_count": 3,
   "metadata": {},
   "outputs": [
    {
     "name": "stdout",
     "output_type": "stream",
     "text": [
      "[0, 1, 2]\n",
      "2\n"
     ]
    }
   ],
   "source": [
    "state = []\n",
    "r=3\n",
    "for i in range(r):\n",
    "    state.append(i)    \n",
    "print(state)\n",
    "final=i\n",
    "print(final)"
   ]
  },
  {
   "cell_type": "code",
   "execution_count": 4,
   "metadata": {},
   "outputs": [
    {
     "name": "stdout",
     "output_type": "stream",
     "text": [
      "[0, 1]\n"
     ]
    }
   ],
   "source": [
    "num = []\n",
    "n=r-1\n",
    "for i in range(n):\n",
    "    num.append(i)\n",
    "print(num)"
   ]
  },
  {
   "cell_type": "code",
   "execution_count": 5,
   "metadata": {},
   "outputs": [
    {
     "name": "stdout",
     "output_type": "stream",
     "text": [
      "[1, 2, 3, 4, 5]\n"
     ]
    }
   ],
   "source": [
    "day = []\n",
    "dy=6\n",
    "for i in range(1,dy):\n",
    "    day.append(i)\n",
    "print(day)"
   ]
  },
  {
   "cell_type": "code",
   "execution_count": 6,
   "metadata": {},
   "outputs": [],
   "source": [
    "#Create variables (Change X and Y)\n",
    "X = mod1.addVars(state,day,lb=0,vtype=GRB.INTEGER,name=\"X\") # Number of machines maintained in state s and day d\n",
    "Y = mod1.addVars(state,day,lb=0,vtype=GRB.INTEGER,name=\"Y\") #Number of operating machines in state s and day d "
   ]
  },
  {
   "cell_type": "code",
   "execution_count": 7,
   "metadata": {},
   "outputs": [],
   "source": [
    "#Objective function (Minimization)\n",
    "mod1.setObjective( grb.quicksum( X[s,d] * C[s] for s in state for d in day ), grb.GRB.MINIMIZE)"
   ]
  },
  {
   "cell_type": "code",
   "execution_count": 9,
   "metadata": {},
   "outputs": [],
   "source": [
    "#Assuming only 3 states\n",
    "P={}\n",
    "#Initiating probabilities \n",
    "P[1,0] = 0.9 #P[s,s']\n",
    "P[2,1]= 0.3\n",
    "P[2,0]= 0.1\n",
    "\n",
    "\n",
    "#Random values\n",
    "Y[0,0] = 0\n",
    "Y[1,0] = 0\n",
    "Y[2,0] = 100\n",
    "Y[3,0] = 0\n",
    "X[0,0] = 0\n",
    "X[1,0] = 0\n",
    "X[2,0] = 0\n",
    "X[3,0] = 0"
   ]
  },
  {
   "cell_type": "code",
   "execution_count": 10,
   "metadata": {},
   "outputs": [
    {
     "data": {
      "text/plain": [
       "{1: <gurobi.Constr *Awaiting Model Update*>,\n",
       " 2: <gurobi.Constr *Awaiting Model Update*>,\n",
       " 3: <gurobi.Constr *Awaiting Model Update*>,\n",
       " 4: <gurobi.Constr *Awaiting Model Update*>,\n",
       " 5: <gurobi.Constr *Awaiting Model Update*>}"
      ]
     },
     "execution_count": 10,
     "metadata": {},
     "output_type": "execute_result"
    }
   ],
   "source": [
    "mod1.update()\n",
    "#Constraints\n",
    "\n",
    "mod1.addConstrs( (X[s,d] <= Y[s,d] for s in state for d in day), name=\"XlessthanY\")\n",
    "\n",
    "#State constraints\n",
    "\n",
    "mod1.addConstrs( (Y[n,d]  == (Y[n,d-1]- X[n,d-1])*(1-grb.quicksum(P[n,s] for s in range(0,n))) +grb.quicksum((Y[s,d-1]- X[s,d-1])*P[s,n]  for s in range (n+1,r)) for n in num for d in day) ,name= 'StateN')\n",
    "                \n",
    "\n",
    "mod1.addConstrs( ( Y[final,d] == Y[final,d-1]*(1-grb.quicksum(P[final,s] for s in range(0,r-1))) + grb.quicksum(X[s,d-1] for s in range(0,r-1) ) for d in day) ,name= 'FinalState')\n",
    "\n",
    "#Minimum number of operating machines \n",
    "M = 80 #Random value\n",
    "mod1.addConstrs( (  grb.quicksum(Y[s,d] for s in range(1,r))  >= M for d in day )  , name= 'minimum' )"
   ]
  },
  {
   "cell_type": "code",
   "execution_count": 11,
   "metadata": {},
   "outputs": [
    {
     "data": {
      "text/plain": [
       "[0, 1, 2]"
      ]
     },
     "execution_count": 11,
     "metadata": {},
     "output_type": "execute_result"
    }
   ],
   "source": [
    "range(0,r)"
   ]
  },
  {
   "cell_type": "code",
   "execution_count": 12,
   "metadata": {},
   "outputs": [
    {
     "data": {
      "text/plain": [
       "[0, 1]"
      ]
     },
     "execution_count": 12,
     "metadata": {},
     "output_type": "execute_result"
    }
   ],
   "source": [
    "range(0,n)"
   ]
  },
  {
   "cell_type": "code",
   "execution_count": 13,
   "metadata": {},
   "outputs": [
    {
     "name": "stdout",
     "output_type": "stream",
     "text": [
      "Optimize a model with 35 rows, 30 columns and 107 nonzeros\n",
      "Variable types: 0 continuous, 30 integer (0 binary)\n",
      "Coefficient statistics:\n",
      "  Matrix range     [1e-01, 1e+00]\n",
      "  Objective range  [1e+00, 6e+00]\n",
      "  Bounds range     [0e+00, 0e+00]\n",
      "  RHS range        [1e+01, 8e+01]\n",
      "Presolve removed 11 rows and 7 columns\n",
      "Presolve time: 0.00s\n",
      "Presolved: 24 rows, 23 columns, 82 nonzeros\n",
      "Variable types: 0 continuous, 23 integer (0 binary)\n",
      "\n",
      "Root relaxation: objective 3.464640e+02, 19 iterations, 0.00 seconds\n",
      "\n",
      "    Nodes    |    Current Node    |     Objective Bounds      |     Work\n",
      " Expl Unexpl |  Obj  Depth IntInf | Incumbent    BestBd   Gap | It/Node Time\n",
      "\n",
      "     0     0  346.46400    0   11          -  346.46400      -     -    0s\n",
      "H    0     0                     408.0000000  346.46400  15.1%     -    0s\n",
      "     0     0  355.99504    0    3  408.00000  355.99504  12.7%     -    0s\n",
      "H    0     0                     366.0000000  355.99504  2.73%     -    0s\n",
      "     0     0  356.02878    0    5  366.00000  356.02878  2.72%     -    0s\n",
      "     0     0  356.02878    0    5  366.00000  356.02878  2.72%     -    0s\n",
      "     0     2  356.02878    0    5  366.00000  356.02878  2.72%     -    0s\n",
      "H    4     4                     363.0000000  358.13435  1.34%   2.8    0s\n",
      "\n",
      "Cutting planes:\n",
      "  Gomory: 4\n",
      "  MIR: 4\n",
      "\n",
      "Explored 11 nodes (55 simplex iterations) in 0.15 seconds\n",
      "Thread count was 4 (of 4 available processors)\n",
      "\n",
      "Solution count 3: 363 366 408 \n",
      "\n",
      "Optimal solution found (tolerance 1.00e-04)\n",
      "Best objective 3.630000000000e+02, best bound 3.630000000000e+02, gap 0.0000%\n"
     ]
    }
   ],
   "source": [
    "mod1.update()\n",
    "mod1.optimize()"
   ]
  },
  {
   "cell_type": "code",
   "execution_count": 14,
   "metadata": {
    "scrolled": false
   },
   "outputs": [
    {
     "name": "stdout",
     "output_type": "stream",
     "text": [
      "\\ Model Machines\n",
      "\\ LP format - for model browsing. Use MPS format to capture full model detail.\n",
      "Minimize\n",
      "  6 X[0,1] + 6 X[0,2] + 6 X[0,3] + 6 X[0,4] + 6 X[0,5] + 3 X[1,1] + 3 X[1,2]\n",
      "   + 3 X[1,3] + 3 X[1,4] + 3 X[1,5] + X[2,1] + X[2,2] + X[2,3] + X[2,4]\n",
      "   + X[2,5]\n",
      "Subject To\n",
      " XlessthanY[0,1]: X[0,1] - Y[0,1] <= 0\n",
      " XlessthanY[0,2]: X[0,2] - Y[0,2] <= 0\n",
      " XlessthanY[0,3]: X[0,3] - Y[0,3] <= 0\n",
      " XlessthanY[0,4]: X[0,4] - Y[0,4] <= 0\n",
      " XlessthanY[0,5]: X[0,5] - Y[0,5] <= 0\n",
      " XlessthanY[1,1]: X[1,1] - Y[1,1] <= 0\n",
      " XlessthanY[1,2]: X[1,2] - Y[1,2] <= 0\n",
      " XlessthanY[1,3]: X[1,3] - Y[1,3] <= 0\n",
      " XlessthanY[1,4]: X[1,4] - Y[1,4] <= 0\n",
      " XlessthanY[1,5]: X[1,5] - Y[1,5] <= 0\n",
      " XlessthanY[2,1]: X[2,1] - Y[2,1] <= 0\n",
      " XlessthanY[2,2]: X[2,2] - Y[2,2] <= 0\n",
      " XlessthanY[2,3]: X[2,3] - Y[2,3] <= 0\n",
      " XlessthanY[2,4]: X[2,4] - Y[2,4] <= 0\n",
      " XlessthanY[2,5]: X[2,5] - Y[2,5] <= 0\n",
      " StateN[0,1]: Y[0,1] = 10\n",
      " StateN[0,2]: X[0,1] + 0.9 X[1,1] + 0.1 X[2,1] - Y[0,1] + Y[0,2]\n",
      "   - 0.9 Y[1,1] - 0.1 Y[2,1] = 0\n",
      " StateN[0,3]: X[0,2] + 0.9 X[1,2] + 0.1 X[2,2] - Y[0,2] + Y[0,3]\n",
      "   - 0.9 Y[1,2] - 0.1 Y[2,2] = 0\n",
      " StateN[0,4]: X[0,3] + 0.9 X[1,3] + 0.1 X[2,3] - Y[0,3] + Y[0,4]\n",
      "   - 0.9 Y[1,3] - 0.1 Y[2,3] = 0\n",
      " StateN[0,5]: X[0,4] + 0.9 X[1,4] + 0.1 X[2,4] - Y[0,4] + Y[0,5]\n",
      "   - 0.9 Y[1,4] - 0.1 Y[2,4] = 0\n",
      " StateN[1,1]: Y[1,1] = 30\n",
      " StateN[1,2]: 0.1 X[1,1] + 0.3 X[2,1] - 0.1 Y[1,1] + Y[1,2] - 0.3 Y[2,1]\n",
      "   = 0\n",
      " StateN[1,3]: 0.1 X[1,2] + 0.3 X[2,2] - 0.1 Y[1,2] + Y[1,3] - 0.3 Y[2,2]\n",
      "   = 0\n",
      " StateN[1,4]: 0.1 X[1,3] + 0.3 X[2,3] - 0.1 Y[1,3] + Y[1,4] - 0.3 Y[2,3]\n",
      "   = 0\n",
      " StateN[1,5]: 0.1 X[1,4] + 0.3 X[2,4] - 0.1 Y[1,4] + Y[1,5] - 0.3 Y[2,4]\n",
      "   = 0\n",
      " FinalState[1]: Y[2,1] = 60\n",
      " FinalState[2]: - X[0,1] - X[1,1] - 0.6 Y[2,1] + Y[2,2] = 0\n",
      " FinalState[3]: - X[0,2] - X[1,2] - 0.6 Y[2,2] + Y[2,3] = 0\n",
      " FinalState[4]: - X[0,3] - X[1,3] - 0.6 Y[2,3] + Y[2,4] = 0\n",
      " FinalState[5]: - X[0,4] - X[1,4] - 0.6 Y[2,4] + Y[2,5] = 0\n",
      " minimum[1]: Y[1,1] + Y[2,1] >= 80\n",
      " minimum[2]: Y[1,2] + Y[2,2] >= 80\n",
      " minimum[3]: Y[1,3] + Y[2,3] >= 80\n",
      " minimum[4]: Y[1,4] + Y[2,4] >= 80\n",
      " minimum[5]: Y[1,5] + Y[2,5] >= 80\n",
      "Bounds\n",
      "Generals\n",
      " X[0,1] X[0,2] X[0,3] X[0,4] X[0,5] X[1,1] X[1,2] X[1,3] X[1,4] X[1,5]\n",
      " X[2,1] X[2,2] X[2,3] X[2,4] X[2,5] Y[0,1] Y[0,2] Y[0,3] Y[0,4] Y[0,5]\n",
      " Y[1,1] Y[1,2] Y[1,3] Y[1,4] Y[1,5] Y[2,1] Y[2,2] Y[2,3] Y[2,4] Y[2,5]\n",
      "End\n",
      "\n"
     ]
    }
   ],
   "source": [
    "mod1.write(\"Machines.lp\")\n",
    "f = open('Machines.lp', 'r')\n",
    "print (f.read())\n",
    "f.close()"
   ]
  },
  {
   "cell_type": "code",
   "execution_count": 15,
   "metadata": {},
   "outputs": [
    {
     "name": "stdout",
     "output_type": "stream",
     "text": [
      "X[0,1] 4\n",
      "X[0,2] 0\n",
      "X[0,3] 13\n",
      "X[0,4] -0\n",
      "X[0,5] -0\n",
      "X[1,1] 30\n",
      "X[1,2] 18\n",
      "X[1,3] 21\n",
      "X[1,4] 18\n",
      "X[1,5] -0\n",
      "X[2,1] -0\n",
      "X[2,2] -0\n",
      "X[2,3] -0\n",
      "X[2,4] -0\n",
      "X[2,5] -0\n",
      "Y[0,1] 10\n",
      "Y[0,2] 12\n",
      "Y[0,3] 19\n",
      "Y[0,4] 12\n",
      "Y[0,5] 19\n",
      "Y[1,1] 30\n",
      "Y[1,2] 18\n",
      "Y[1,3] 21\n",
      "Y[1,4] 18\n",
      "Y[1,5] 21\n",
      "Y[2,1] 60\n",
      "Y[2,2] 70\n",
      "Y[2,3] 60\n",
      "Y[2,4] 70\n",
      "Y[2,5] 60\n",
      "Obj: 363\n"
     ]
    }
   ],
   "source": [
    "for v in mod1.getVars(): \n",
    "    print('%s %g' % (v.varName, v.x))\n",
    "print('Obj: %g' % mod1.objVal)"
   ]
  },
  {
   "cell_type": "code",
   "execution_count": 16,
   "metadata": {},
   "outputs": [
    {
     "name": "stdout",
     "output_type": "stream",
     "text": [
      "\n",
      "    Variable            X \n",
      "-------------------------\n",
      "      X[0,1]            4 \n",
      "      X[0,3]           13 \n",
      "      X[1,1]           30 \n",
      "      X[1,2]           18 \n",
      "      X[1,3]           21 \n",
      "      X[1,4]           18 \n",
      "      Y[0,1]           10 \n",
      "      Y[0,2]           12 \n",
      "      Y[0,3]           19 \n",
      "      Y[0,4]           12 \n",
      "      Y[0,5]           19 \n",
      "      Y[1,1]           30 \n",
      "      Y[1,2]           18 \n",
      "      Y[1,3]           21 \n",
      "      Y[1,4]           18 \n",
      "      Y[1,5]           21 \n",
      "      Y[2,1]           60 \n",
      "      Y[2,2]           70 \n",
      "      Y[2,3]           60 \n",
      "      Y[2,4]           70 \n",
      "      Y[2,5]           60 \n"
     ]
    }
   ],
   "source": [
    "mod1.printAttr('X')"
   ]
  }
 ],
 "metadata": {
  "kernelspec": {
   "display_name": "Python 3",
   "language": "python",
   "name": "python3"
  },
  "language_info": {
   "codemirror_mode": {
    "name": "ipython",
    "version": 3
   },
   "file_extension": ".py",
   "mimetype": "text/x-python",
   "name": "python",
   "nbconvert_exporter": "python",
   "pygments_lexer": "ipython3",
   "version": "3.7.6"
  }
 },
 "nbformat": 4,
 "nbformat_minor": 2
}
