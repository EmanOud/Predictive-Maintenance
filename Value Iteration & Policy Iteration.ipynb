{
 "cells": [
  {
   "cell_type": "markdown",
   "metadata": {},
   "source": [
    "# Library "
   ]
  },
  {
   "cell_type": "code",
   "execution_count": 129,
   "metadata": {},
   "outputs": [
    {
     "name": "stdout",
     "output_type": "stream",
     "text": [
      "[[[0.3  0.25 0.2  0.15 0.1 ]\n",
      "  [0.   0.3  0.3  0.25 0.15]\n",
      "  [0.   0.   0.35 0.45 0.2 ]\n",
      "  [0.   0.   0.   0.5  0.5 ]\n",
      "  [0.   0.   0.   0.   1.  ]]\n",
      "\n",
      " [[1.   0.   0.   0.   0.  ]\n",
      "  [0.8  0.2  0.   0.   0.  ]\n",
      "  [0.7  0.2  0.1  0.   0.  ]\n",
      "  [0.6  0.25 0.1  0.05 0.  ]\n",
      "  [0.5  0.25 0.05 0.15 0.05]]]\n",
      "[[  0  -1]\n",
      " [  0  -3]\n",
      " [ -1  -5]\n",
      " [ -8  -5]\n",
      " [-40  -8]]\n"
     ]
    }
   ],
   "source": [
    "import numpy as np\n",
    "P=np.array([ [\n",
    "    [0.3,0.25,0.2,0.15,0.1],\n",
    "     [0,0.3,0.3,0.25,0.15],\n",
    "     [0,0,0.35,0.45,0.2],\n",
    "     [0,0,0,0.5,0.5],\n",
    "     [0,0,0,0,1]],\n",
    " \n",
    "   [[1,0,0,0,0],\n",
    "     [0.8,0.2,0,0,0],\n",
    "     [0.7,0.2,0.1,0,0],\n",
    "     [0.6,0.25,0.1,0.05,0],\n",
    "     [0.5,0.25,0.05,0.15,0.05]]])\n",
    "\n",
    "\n",
    "\n",
    "R =np.array([ \n",
    "    [0,-1],\n",
    "     [0,-3],\n",
    "     [-1,-5],\n",
    "     [-8,-5],\n",
    "     [-40,-8] ])\n",
    "print(P)\n",
    "print(R)"
   ]
  },
  {
   "cell_type": "code",
   "execution_count": 130,
   "metadata": {},
   "outputs": [
    {
     "name": "stdout",
     "output_type": "stream",
     "text": [
      "(1, 0, 0, 1, 1)\n",
      "(-3.9999999999999942, -6.273247087846309, -7.963143761336942, -8.90750089461969, -12.443579813678994)\n",
      "2\n"
     ]
    }
   ],
   "source": [
    "import mdptoolbox, mdptoolbox.example\n",
    "pi = mdptoolbox.mdp.PolicyIteration(P, R, 0.75)\n",
    "pi.run()\n",
    "print(pi.policy)\n",
    "print(pi.V)\n",
    "print(pi.iter)"
   ]
  },
  {
   "cell_type": "code",
   "execution_count": 131,
   "metadata": {},
   "outputs": [
    {
     "name": "stdout",
     "output_type": "stream",
     "text": [
      "(1, 0, 0, 1, 1)\n",
      "(-3.831059455871582, -6.100998320282544, -7.791506863980537, -8.736977070413575, -12.272907759744445)\n",
      "12\n"
     ]
    }
   ],
   "source": [
    "rvi = mdptoolbox.mdp.ValueIteration(P, R,0.75)\n",
    "rvi.run()\n",
    "print(rvi.policy)\n",
    "print(rvi.V)\n",
    "print(rvi.iter)"
   ]
  }
 ],
 "metadata": {
  "kernelspec": {
   "display_name": "Python 3",
   "language": "python",
   "name": "python3"
  },
  "language_info": {
   "codemirror_mode": {
    "name": "ipython",
    "version": 3
   },
   "file_extension": ".py",
   "mimetype": "text/x-python",
   "name": "python",
   "nbconvert_exporter": "python",
   "pygments_lexer": "ipython3",
   "version": "3.7.6"
  }
 },
 "nbformat": 4,
 "nbformat_minor": 4
}
